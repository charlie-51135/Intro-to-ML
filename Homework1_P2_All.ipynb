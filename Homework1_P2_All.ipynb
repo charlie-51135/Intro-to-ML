{
  "nbformat": 4,
  "nbformat_minor": 0,
  "metadata": {
    "colab": {
      "provenance": [],
      "toc_visible": true,
      "include_colab_link": true
    },
    "kernelspec": {
      "name": "python3",
      "display_name": "Python 3"
    },
    "language_info": {
      "name": "python"
    }
  },
  "cells": [
    {
      "cell_type": "markdown",
      "metadata": {
        "id": "view-in-github",
        "colab_type": "text"
      },
      "source": [
        "<a href=\"https://colab.research.google.com/github/charlie-51135/Intro-to-ML/blob/main/Homework1_P2_All.ipynb\" target=\"_parent\"><img src=\"https://colab.research.google.com/assets/colab-badge.svg\" alt=\"Open In Colab\"/></a>"
      ]
    },
    {
      "cell_type": "code",
      "execution_count": 47,
      "metadata": {
        "id": "TxG4cE0l3fag",
        "colab": {
          "base_uri": "https://localhost:8080/"
        },
        "outputId": "f009f439-449c-4ff2-c918-74ab1f3794ea"
      },
      "outputs": [
        {
          "output_type": "stream",
          "name": "stdout",
          "text": [
            "Drive already mounted at /content/drive; to attempt to forcibly remount, call drive.mount(\"/content/drive\", force_remount=True).\n"
          ]
        }
      ],
      "source": [
        "import numpy as np\n",
        "import pandas as pd\n",
        "import matplotlib.pyplot as plt\n",
        "from google.colab import drive\n",
        "drive.mount('/content/drive')\n",
        "file_path = '/content/drive/MyDrive/Intro-to-ML/D3.csv'\n",
        "df = pd.DataFrame(pd.read_csv(file_path))"
      ]
    },
    {
      "cell_type": "code",
      "source": [
        "# Separate features and labels\n",
        "X = df.values[:, :3]  # get input X values from first three columns\n",
        "y = df.values[:, 3]  # get output Y values from fourth column\n",
        "m = len(y)  # Number of training examples\n",
        "n = len(X)  # Number of training examples\n",
        "\n",
        "# Create a column vector of ones. This will be used as the \"bias\" term for the linear regression model.\n",
        "X_0 = np.ones((m, 1))\n",
        "# Horizontally stack X_0 and X_1 to create final feature matrix X.\n",
        "X = np.hstack((X_0, X))\n",
        "theta = np.zeros(4)"
      ],
      "metadata": {
        "id": "WpU_RLhk4Ul-"
      },
      "execution_count": 48,
      "outputs": []
    },
    {
      "cell_type": "code",
      "source": [
        "def compute_cost(X, y, theta):\n",
        "    \"\"\"\n",
        "    Compute cost for linear regression.\n",
        "\n",
        "    Parameters:\n",
        "    X : 2D array where each row represents the training example and each column represent the feature\n",
        "        m = number of training examples\n",
        "        n = number of features (including X_0 column of ones)\n",
        "    y : 1D array of labels/target values for each training example. dimension(m)\n",
        "    theta : 1D array of fitting parameters or weights. Dimension (n)\n",
        "\n",
        "    Returns:\n",
        "    J : Scalar value, the cost\n",
        "    \"\"\"\n",
        "    predictions = X.dot(theta)\n",
        "    errors = np.subtract(predictions, y)\n",
        "    sqrErrors = np.square(errors)\n",
        "    J = 1 / (2 * m) * np.sum(sqrErrors)\n",
        "    return J"
      ],
      "metadata": {
        "id": "bADIBdmGAPvs"
      },
      "execution_count": 49,
      "outputs": []
    },
    {
      "cell_type": "code",
      "source": [
        "def gradient_descent(X, y, theta, alpha, iterations):\n",
        "    \"\"\"\n",
        "    Compute the optimal parameters using gradient descent for linear regression.\n",
        "\n",
        "    Parameters:\n",
        "    X : 2D array where each row represents the training example and each column represents the feature\n",
        "        m = number of training examples\n",
        "        n = number of features (including X_0 column of ones)\n",
        "    y : 1D array of labels/target values for each training example. dimension(m)\n",
        "    theta : 1D array of fitting parameters or weights. Dimension (n)\n",
        "    alpha : Learning rate (scalar)\n",
        "    iterations : Number of iterations (scalar)\n",
        "\n",
        "    Returns:\n",
        "    theta : Updated values of fitting parameters or weights after 'iterations' iterations. Dimension (n)\n",
        "    cost_history : Array containing the cost for each iteration. Dimension (iterations)\n",
        "    \"\"\"\n",
        "\n",
        "    m = len(y)  # Number of training examples\n",
        "    cost_history = np.zeros(iterations)\n",
        "\n",
        "    for i in range(iterations):\n",
        "        predictions = X.dot(theta)\n",
        "        errors = np.subtract(predictions, y)\n",
        "        sum_delta = (alpha / m) * X.transpose().dot(errors)\n",
        "        theta -= sum_delta\n",
        "        cost_history[i] = compute_cost(X, y, theta)\n",
        "\n",
        "    return theta, cost_history"
      ],
      "metadata": {
        "id": "nvAzHrlWAki8"
      },
      "execution_count": 50,
      "outputs": []
    },
    {
      "cell_type": "code",
      "source": [
        "alpha_values = [0.01, 0.02, 0.03, 0.04, 0.05, 0.06, 0.07, 0.08, 0.09, 0.1]\n",
        "iterations = 1500\n",
        "\n",
        "for alpha in alpha_values:\n",
        "    theta = np.zeros(4)\n",
        "    theta, cost_history = gradient_descent(X, y, theta, alpha, iterations)\n",
        "    print(f'Alpha = {alpha}')\n",
        "    print('Final value of theta =', theta)\n",
        "    print('cost_history =', cost_history[-1:])\n",
        "    print('\\n')"
      ],
      "metadata": {
        "id": "fSXC41K7EFV5",
        "colab": {
          "base_uri": "https://localhost:8080/"
        },
        "outputId": "8d0dae3a-9c8c-47c1-f1d7-06d138848108"
      },
      "execution_count": 51,
      "outputs": [
        {
          "output_type": "stream",
          "name": "stdout",
          "text": [
            "Alpha = 0.01\n",
            "Final value of theta = [ 4.15118728 -1.8394291   0.72473856 -0.09513266]\n",
            "cost_history = [0.81051044]\n",
            "\n",
            "\n",
            "Alpha = 0.02\n",
            "Final value of theta = [ 5.0540181  -1.96696891  0.57555136 -0.2274693 ]\n",
            "cost_history = [0.74206929]\n",
            "\n",
            "\n",
            "Alpha = 0.03\n",
            "Final value of theta = [ 5.25606097 -1.99551081  0.54216503 -0.25708468]\n",
            "cost_history = [0.73864409]\n",
            "\n",
            "\n",
            "Alpha = 0.04\n",
            "Final value of theta = [ 5.30120817 -2.0018886   0.53470473 -0.26370234]\n",
            "cost_history = [0.73847319]\n",
            "\n",
            "\n",
            "Alpha = 0.05\n",
            "Final value of theta = [ 5.31128136 -2.0033116   0.5330402  -0.26517886]\n",
            "cost_history = [0.73846469]\n",
            "\n",
            "\n",
            "Alpha = 0.06\n",
            "Final value of theta = [ 5.3135255  -2.00362862  0.53266937 -0.26550781]\n",
            "cost_history = [0.73846426]\n",
            "\n",
            "\n",
            "Alpha = 0.07\n",
            "Final value of theta = [ 5.31402471 -2.00369914  0.53258688 -0.26558098]\n",
            "cost_history = [0.73846424]\n",
            "\n",
            "\n",
            "Alpha = 0.08\n",
            "Final value of theta = [ 5.31413559 -2.00371481  0.53256855 -0.26559724]\n",
            "cost_history = [0.73846424]\n",
            "\n",
            "\n",
            "Alpha = 0.09\n",
            "Final value of theta = [ 5.31416018 -2.00371828  0.53256449 -0.26560084]\n",
            "cost_history = [0.73846424]\n",
            "\n",
            "\n",
            "Alpha = 0.1\n",
            "Final value of theta = [ 5.31416563 -2.00371905  0.53256359 -0.26560164]\n",
            "cost_history = [0.73846424]\n",
            "\n",
            "\n"
          ]
        }
      ]
    },
    {
      "cell_type": "code",
      "source": [
        "plt.plot(range(1, iterations + 1), cost_history, color='blue')\n",
        "plt.rcParams[\"figure.figsize\"] = (10, 6)\n",
        "plt.grid(True)\n",
        "\n",
        "plt.xlabel('Number of iterations')\n",
        "plt.ylabel('Cost (J)')\n",
        "plt.title('Convergence of gradient descent')\n",
        "\n",
        "# Show the plot\n",
        "plt.show()"
      ],
      "metadata": {
        "id": "qDUKQIhLGCHc",
        "colab": {
          "base_uri": "https://localhost:8080/",
          "height": 564
        },
        "outputId": "f8fe3b1a-5aa1-4cf4-f122-e9de5b91f5d4"
      },
      "execution_count": 52,
      "outputs": [
        {
          "output_type": "display_data",
          "data": {
            "text/plain": [
              "<Figure size 1000x600 with 1 Axes>"
            ],
            "image/png": "[encoded data removed]"
          },
          "metadata": {}
        }
      ]
    }
  ]
}